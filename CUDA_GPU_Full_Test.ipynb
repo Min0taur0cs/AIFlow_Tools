{
 "cells": [
  {
   "cell_type": "markdown",
   "metadata": {},
   "source": [
    "# ML Libraries Performance and GPU Utilization Check\n",
    "\n",
    "This script checks the installation and performance of various machine learning libraries. It assesses both CPU and GPU performance (if available) for each library.\n",
    "\n",
    "## Import Required Libraries\n",
    "\n",
    "We begin by importing necessary libraries and modules."
   ]
  },
  {
   "cell_type": "code",
   "execution_count": 19,
   "metadata": {},
   "outputs": [],
   "source": [
    "import sys\n",
    "import time\n",
    "import torch\n",
    "import tensorflow as tf\n",
    "from sklearn.datasets import make_classification\n",
    "from sklearn.ensemble import RandomForestClassifier\n",
    "import warnings\n",
    "\n",
    "# Suppressing warnings, especially for TensorFlow\n",
    "warnings.filterwarnings('ignore')"
   ]
  },
  {
   "cell_type": "markdown",
   "metadata": {},
   "source": [
    "## Performance Measurement Functions\n",
    "\n",
    "For each library, we define a function to measure its performance on both CPU and GPU.\n"
   ]
  },
  {
   "cell_type": "markdown",
   "metadata": {},
   "source": [
    "## GPU Availability Check\n",
    "\n",
    "We also check if the GPU is available for each library."
   ]
  },
  {
   "cell_type": "code",
   "execution_count": 20,
   "metadata": {},
   "outputs": [
    {
     "name": "stdout",
     "output_type": "stream",
     "text": [
      "Thu Dec  7 09:23:55 2023       \n",
      "+---------------------------------------------------------------------------------------+\n",
      "| NVIDIA-SMI 545.29.06              Driver Version: 546.17       CUDA Version: 12.3     |\n",
      "|-----------------------------------------+----------------------+----------------------+\n",
      "| GPU  Name                 Persistence-M | Bus-Id        Disp.A | Volatile Uncorr. ECC |\n",
      "| Fan  Temp   Perf          Pwr:Usage/Cap |         Memory-Usage | GPU-Util  Compute M. |\n",
      "|                                         |                      |               MIG M. |\n",
      "|=========================================+======================+======================|\n",
      "|   0  NVIDIA GeForce RTX 4080        On  | 00000000:01:00.0  On |                  N/A |\n",
      "| 30%   40C    P0              41W / 288W |  15781MiB / 16376MiB |      2%      Default |\n",
      "|                                         |                      |                  N/A |\n",
      "+-----------------------------------------+----------------------+----------------------+\n",
      "                                                                                         \n",
      "+---------------------------------------------------------------------------------------+\n",
      "| Processes:                                                                            |\n",
      "|  GPU   GI   CI        PID   Type   Process name                            GPU Memory |\n",
      "|        ID   ID                                                             Usage      |\n",
      "|=======================================================================================|\n",
      "|    0   N/A  N/A       451      G   /Xwayland                                 N/A      |\n",
      "|    0   N/A  N/A     34453      C   /python3.10                               N/A      |\n",
      "+---------------------------------------------------------------------------------------+\n",
      "+--------------+------+------------+---------------------+---------+\n",
      "| Library      | Test | CPU Time (ms) | GPU Time (ms)       | Speedup |\n",
      "+--------------+------+------------+---------------------+---------+\n",
      "| torch        | 1    | 15.784979  | 0.2155303955078125  | 73.24x  |\n",
      "| torch        | 2    | 10.209084  | 0.16450881958007812 | 62.06x  |\n",
      "| torch        | 3    | 8.631229   | 0.16355514526367188 | 52.77x  |\n",
      "| torch        | 4    | 9.662390   | 0.14829635620117188 | 65.16x  |\n",
      "| torch        | 5    | 8.969307   | 0.0934600830078125  | 95.97x  |\n",
      "| torch        | 6    | 8.737087   | 0.10132789611816406 | 86.23x  |\n",
      "| torch        | 7    | 8.482456   | 0.091552734375      | 92.65x  |\n",
      "| torch        | 8    | 8.366585   | 0.13065338134765625 | 64.04x  |\n",
      "| torch        | 9    | 8.444786   | 0.12755393981933594 | 66.21x  |\n",
      "| torch        | 10   | 9.383678   | 0.186920166015625   | 50.20x  |\n",
      "| tensorflow   | 1    | 11.203766  | 0.6587505340576172  | 17.01x  |\n",
      "| tensorflow   | 2    | 5.340338   | 0.4780292510986328  | 11.17x  |\n",
      "| tensorflow   | 3    | 4.894018   | 0.42057037353515625 | 11.64x  |\n",
      "| tensorflow   | 4    | 7.074594   | 0.5142688751220703  | 13.76x  |\n",
      "| tensorflow   | 5    | 7.235289   | 0.45680999755859375 | 15.84x  |\n",
      "| tensorflow   | 6    | 4.791498   | 0.40841102600097656 | 11.73x  |\n",
      "| tensorflow   | 7    | 4.682064   | 0.3962516784667969  | 11.82x  |\n",
      "| tensorflow   | 8    | 4.533052   | 0.38361549377441406 | 11.82x  |\n",
      "| tensorflow   | 9    | 4.793882   | 0.36215782165527344 | 13.24x  |\n",
      "| tensorflow   | 10   | 4.408121   | 0.39505958557128906 | 11.16x  |\n",
      "| scikit-learn | 1    | 187.206268 | N/A                 | N/A     |\n",
      "| scikit-learn | 2    | 186.353922 | N/A                 | N/A     |\n",
      "| scikit-learn | 3    | 186.559916 | N/A                 | N/A     |\n",
      "| scikit-learn | 4    | 188.635826 | N/A                 | N/A     |\n",
      "| scikit-learn | 5    | 186.457396 | N/A                 | N/A     |\n",
      "| scikit-learn | 6    | 185.729980 | N/A                 | N/A     |\n",
      "| scikit-learn | 7    | 182.746649 | N/A                 | N/A     |\n",
      "| scikit-learn | 8    | 188.528776 | N/A                 | N/A     |\n",
      "| scikit-learn | 9    | 187.140703 | N/A                 | N/A     |\n",
      "| scikit-learn | 10   | 189.280748 | N/A                 | N/A     |\n",
      "+--------------+------+------------+---------------------+---------+\n"
     ]
    }
   ],
   "source": [
    "# Nvidia Check\n",
    "!nvidia-smi\n",
    "\n",
    "# Performance Measurement for PyTorch\n",
    "def measure_performance_torch(device, size=1000):\n",
    "    start_time = time.time()\n",
    "    a = torch.rand(size, size, device=device)\n",
    "    b = torch.rand(size, size, device=device)\n",
    "    torch.matmul(a, b)\n",
    "    end_time = time.time()\n",
    "    return end_time - start_time\n",
    "\n",
    "# Performance Measurement for TensorFlow\n",
    "def measure_performance_tensorflow(device_name, size=1000):\n",
    "    with tf.device(device_name):\n",
    "        start_time = time.time()\n",
    "        a = tf.random.normal([size, size])\n",
    "        b = tf.random.normal([size, size])\n",
    "        tf.matmul(a, b)\n",
    "        end_time = time.time()\n",
    "        return end_time - start_time\n",
    "\n",
    "# Performance Measurement for Scikit-learn\n",
    "def measure_performance_sklearn(size=1000):\n",
    "    X, y = make_classification(n_samples=size, n_features=20, n_classes=2, random_state=42)\n",
    "    clf = RandomForestClassifier()\n",
    "    start_time = time.time()\n",
    "    clf.fit(X, y)\n",
    "    end_time = time.time()\n",
    "    return end_time - start_time\n",
    "\n",
    "# Check GPU support for libraries\n",
    "def check_gpu_support(library):\n",
    "    if library == 'torch' and torch.cuda.is_available():\n",
    "        return True, torch.cuda.get_device_name(0)\n",
    "    elif library == 'tensorflow' and tf.config.list_physical_devices('GPU'):\n",
    "        return True, None\n",
    "    else:\n",
    "        return False, None\n",
    "\n",
    "# Main function to measure and display performance\n",
    "def main():\n",
    "    libraries_to_test = [\"torch\", \"tensorflow\", \"scikit-learn\"]  # Libraries to test\n",
    "    num_tests = 10  # Number of tests per library\n",
    "    results = []  # Storing results\n",
    "\n",
    "    for lib in libraries_to_test:\n",
    "        gpu_available, gpu_name = check_gpu_support(lib)\n",
    "        for i in range(num_tests):\n",
    "            if lib == 'torch':\n",
    "                cpu_time = measure_performance_torch(\"cpu\")\n",
    "                gpu_time = measure_performance_torch(\"cuda\") if gpu_available else None\n",
    "            elif lib == 'tensorflow':\n",
    "                cpu_time = measure_performance_tensorflow(\"/cpu:0\")\n",
    "                gpu_time = measure_performance_tensorflow(\"/gpu:0\") if gpu_available else None\n",
    "            elif lib == 'scikit-learn':\n",
    "                cpu_time = measure_performance_sklearn()\n",
    "                gpu_time = None\n",
    "            \n",
    "            # Store the results\n",
    "            results.append({\n",
    "                \"Library\": lib,\n",
    "                \"Test\": i + 1,\n",
    "                \"CPU Time (ms)\": cpu_time * 1000,  # Convert to milliseconds\n",
    "                \"GPU Time (ms)\": gpu_time * 1000 if gpu_time else \"N/A\",  # Convert to milliseconds\n",
    "                \"GPU Available\": gpu_available,\n",
    "                \"GPU Name\": gpu_name\n",
    "            })\n",
    "\n",
    "    # Print results in a tabular format\n",
    "    print_table(results)\n",
    "\n",
    "# Function to print results in a table format\n",
    "def print_table(data):\n",
    "    # Determine the maximum width needed for each column\n",
    "    column_widths = {\n",
    "        \"Library\": max(len(row[\"Library\"]) for row in data),\n",
    "        \"Test\": len(\"Test\"),\n",
    "        \"CPU Time (ms)\": max(len(f\"{row['CPU Time (ms)']:.6f}\") for row in data),\n",
    "        \"GPU Time (ms)\": max(len(str(row[\"GPU Time (ms)\"])) for row in data),\n",
    "        \"Speedup\": len(\"Speedup\")\n",
    "    }\n",
    "\n",
    "    # Headers\n",
    "    headers = [\"Library\", \"Test\", \"CPU Time (ms)\", \"GPU Time (ms)\", \"Speedup\"]\n",
    "    header_row = \"| \" + \" | \".join(headers[i].ljust(column_widths[headers[i]]) for i in range(len(headers))) + \" |\"\n",
    "\n",
    "    # Separator\n",
    "    separator = \"+-\" + \"-+-\".join([\"-\" * column_widths[header] for header in headers]) + \"-+\"\n",
    "\n",
    "    # Print the table\n",
    "    print(separator)\n",
    "    print(header_row)\n",
    "    print(separator)\n",
    "    for row in data:\n",
    "        cpu_time = row[\"CPU Time (ms)\"]\n",
    "        gpu_time = row[\"GPU Time (ms)\"]\n",
    "        # Calculate speedup\n",
    "        if gpu_time != \"N/A\" and float(gpu_time) > 0:\n",
    "            speedup = cpu_time / float(gpu_time)\n",
    "            speedup_text = f\"{speedup:.2f}x\" if speedup >= 1 else f\"{100 * (1 - gpu_time / cpu_time):.2f}% faster\"\n",
    "        else:\n",
    "            speedup_text = \"N/A\"\n",
    "\n",
    "        formatted_row = \"| \" + \" | \".join([\n",
    "            row[\"Library\"].ljust(column_widths[\"Library\"]),\n",
    "            str(row[\"Test\"]).ljust(column_widths[\"Test\"]),\n",
    "            f\"{row['CPU Time (ms)']:.6f}\".ljust(column_widths[\"CPU Time (ms)\"]),\n",
    "            str(row[\"GPU Time (ms)\"]).ljust(column_widths[\"GPU Time (ms)\"]),\n",
    "            speedup_text.ljust(column_widths[\"Speedup\"])\n",
    "        ]) + \" |\"\n",
    "        print(formatted_row)\n",
    "    print(separator)\n",
    "\n",
    "if __name__ == \"__main__\":\n",
    "    main()\n"
   ]
  },
  {
   "cell_type": "markdown",
   "metadata": {},
   "source": [
    "### Loading all essential libraries including Cudf to speed up Pandas"
   ]
  },
  {
   "cell_type": "markdown",
   "metadata": {
    "id": "4zGUeWvcTbDs"
   },
   "source": [
    "# Download the data\n",
    "\n",
    "The data we'll be working with is the [Parking Violations Issued - Fiscal Year 2022](https://data.cityofnewyork.us/City-Government/Parking-Violations-Issued-Fiscal-Year-2022/7mxj-7a6y) dataset from NYC Open Data.\n",
    "\n",
    "We're downloading a copy of this dataset from an s3 bucket hosted by NVIDIA to provide faster download speeds. We'll start by downloading the data. This should take about 30 seconds.\n",
    "\n",
    "## Data License and Terms\n",
    "As this dataset originates from the NYC Open Data Portal, it's governed by their license and terms of use.\n",
    "\n",
    "### Are there restrictions on how I can use Open Data?\n",
    "\n",
    "> Open Data belongs to all New Yorkers. There are no restrictions on the use of Open Data. Refer to Terms of Use for more information.\n",
    "\n",
    "### [Terms of Use](https://opendata.cityofnewyork.us/overview/#termsofuse)\n",
    "\n",
    "> By accessing datasets and feeds available through NYC Open Data, the user agrees to all of the Terms of Use of NYC.gov as well as the Privacy Policy for NYC.gov. The user also agrees to any additional terms of use defined by the agencies, bureaus, and offices providing data. Public data sets made available on NYC Open Data are provided for informational purposes. The City does not warranty the completeness, accuracy, content, or fitness for any particular purpose or use of any public data set made available on NYC Open Data, nor are any such warranties to be implied or inferred with respect to the public data sets furnished therein.\n",
    "\n",
    "> The City is not liable for any deficiencies in the completeness, accuracy, content, or fitness for any particular purpose or use of any public data set, or application utilizing such data set, provided by any third party.\n",
    "\n",
    "> Submitting City Agencies are the authoritative source of data available on NYC Open Data. These entities are responsible for data quality and retain version control of data sets and feeds accessed on the Site. Data may be updated, corrected, or refreshed at any time."
   ]
  },
  {
   "cell_type": "code",
   "execution_count": 22,
   "metadata": {},
   "outputs": [
    {
     "name": "stdout",
     "output_type": "stream",
     "text": [
      "--2023-12-07 09:38:58--  https://data.rapids.ai/datasets/nyc_parking/nyc_parking_violations_2022.parquet\n",
      "Resolving data.rapids.ai (data.rapids.ai)... 18.172.202.44, 18.172.202.119, 18.172.202.4, ...\n",
      "Connecting to data.rapids.ai (data.rapids.ai)|18.172.202.44|:443... connected.\n",
      "HTTP request sent, awaiting response... 200 OK\n",
      "Length: 477161608 (455M) [binary/octet-stream]\n",
      "Saving to: ‘nyc_parking_violations_2022.parquet.1’\n",
      "\n",
      "nyc_parking_violati 100%[===================>] 455.06M  16.1MB/s    in 30s     \n",
      "\n",
      "2023-12-07 09:39:29 (15.3 MB/s) - ‘nyc_parking_violations_2022.parquet.1’ saved [477161608/477161608]\n",
      "\n"
     ]
    }
   ],
   "source": [
    "!wget https://data.rapids.ai/datasets/nyc_parking/nyc_parking_violations_2022.parquet\n"
   ]
  },
  {
   "cell_type": "markdown",
   "metadata": {},
   "source": [
    "## Functions that test Pandas vs cuDF and post a plot in plotly express about them and data\n"
   ]
  },
  {
   "cell_type": "code",
   "execution_count": 10,
   "metadata": {},
   "outputs": [
    {
     "name": "stdout",
     "output_type": "stream",
     "text": [
      "------------------------+---------------+------------------+-------------+----------------+---------------------\n",
      "Operation               |Pandas Time (s)|Pandas Memory (MB)|cuDF Time (s)|cuDF Memory (MB)|Performance Boost (%)\n",
      "------------------------+---------------+------------------+-------------+----------------+---------------------\n",
      "Value Counts by State   |6.8549         |2091.2344         |0.4975       |2062.8945       |92.74%               \n",
      "Aggregation by Body Type|6.5390         |2141.1836         |0.5010       |2125.5898       |92.34%               \n",
      "Count by Weekday        |6.6512         |2080.6406         |0.4908       |2059.2734       |92.62%               \n",
      "------------------------+---------------+------------------+-------------+----------------+---------------------\n"
     ]
    },
    {
     "data": {
      "application/vnd.plotly.v1+json": {
       "config": {
        "plotlyServerURL": "https://plot.ly"
       },
       "data": [
        {
         "alignmentgroup": "True",
         "hovertemplate": "Library=Pandas<br>Operation=%{x}<br>Time (s)=%{y}<extra></extra>",
         "legendgroup": "Pandas",
         "marker": {
          "color": "#636efa",
          "pattern": {
           "shape": ""
          }
         },
         "name": "Pandas",
         "offsetgroup": "Pandas",
         "orientation": "v",
         "showlegend": true,
         "textposition": "auto",
         "type": "bar",
         "x": [
          "Value Counts by State",
          "Aggregation by Body Type",
          "Count by Weekday"
         ],
         "xaxis": "x",
         "y": [
          "6.8549",
          "6.5390",
          "6.6512"
         ],
         "yaxis": "y"
        },
        {
         "alignmentgroup": "True",
         "hovertemplate": "Library=cuDF<br>Operation=%{x}<br>Time (s)=%{y}<extra></extra>",
         "legendgroup": "cuDF",
         "marker": {
          "color": "#EF553B",
          "pattern": {
           "shape": ""
          }
         },
         "name": "cuDF",
         "offsetgroup": "cuDF",
         "orientation": "v",
         "showlegend": true,
         "textposition": "auto",
         "type": "bar",
         "x": [
          "Value Counts by State",
          "Aggregation by Body Type",
          "Count by Weekday"
         ],
         "xaxis": "x",
         "y": [
          "0.4975",
          "0.5010",
          "0.4908"
         ],
         "yaxis": "y"
        }
       ],
       "layout": {
        "autosize": true,
        "barmode": "group",
        "legend": {
         "title": {
          "text": "Library"
         },
         "tracegroupgap": 0
        },
        "template": {
         "data": {
          "bar": [
           {
            "error_x": {
             "color": "#2a3f5f"
            },
            "error_y": {
             "color": "#2a3f5f"
            },
            "marker": {
             "line": {
              "color": "#E5ECF6",
              "width": 0.5
             },
             "pattern": {
              "fillmode": "overlay",
              "size": 10,
              "solidity": 0.2
             }
            },
            "type": "bar"
           }
          ],
          "barpolar": [
           {
            "marker": {
             "line": {
              "color": "#E5ECF6",
              "width": 0.5
             },
             "pattern": {
              "fillmode": "overlay",
              "size": 10,
              "solidity": 0.2
             }
            },
            "type": "barpolar"
           }
          ],
          "carpet": [
           {
            "aaxis": {
             "endlinecolor": "#2a3f5f",
             "gridcolor": "white",
             "linecolor": "white",
             "minorgridcolor": "white",
             "startlinecolor": "#2a3f5f"
            },
            "baxis": {
             "endlinecolor": "#2a3f5f",
             "gridcolor": "white",
             "linecolor": "white",
             "minorgridcolor": "white",
             "startlinecolor": "#2a3f5f"
            },
            "type": "carpet"
           }
          ],
          "choropleth": [
           {
            "colorbar": {
             "outlinewidth": 0,
             "ticks": ""
            },
            "type": "choropleth"
           }
          ],
          "contour": [
           {
            "colorbar": {
             "outlinewidth": 0,
             "ticks": ""
            },
            "colorscale": [
             [
              0,
              "#0d0887"
             ],
             [
              0.1111111111111111,
              "#46039f"
             ],
             [
              0.2222222222222222,
              "#7201a8"
             ],
             [
              0.3333333333333333,
              "#9c179e"
             ],
             [
              0.4444444444444444,
              "#bd3786"
             ],
             [
              0.5555555555555556,
              "#d8576b"
             ],
             [
              0.6666666666666666,
              "#ed7953"
             ],
             [
              0.7777777777777778,
              "#fb9f3a"
             ],
             [
              0.8888888888888888,
              "#fdca26"
             ],
             [
              1,
              "#f0f921"
             ]
            ],
            "type": "contour"
           }
          ],
          "contourcarpet": [
           {
            "colorbar": {
             "outlinewidth": 0,
             "ticks": ""
            },
            "type": "contourcarpet"
           }
          ],
          "heatmap": [
           {
            "colorbar": {
             "outlinewidth": 0,
             "ticks": ""
            },
            "colorscale": [
             [
              0,
              "#0d0887"
             ],
             [
              0.1111111111111111,
              "#46039f"
             ],
             [
              0.2222222222222222,
              "#7201a8"
             ],
             [
              0.3333333333333333,
              "#9c179e"
             ],
             [
              0.4444444444444444,
              "#bd3786"
             ],
             [
              0.5555555555555556,
              "#d8576b"
             ],
             [
              0.6666666666666666,
              "#ed7953"
             ],
             [
              0.7777777777777778,
              "#fb9f3a"
             ],
             [
              0.8888888888888888,
              "#fdca26"
             ],
             [
              1,
              "#f0f921"
             ]
            ],
            "type": "heatmap"
           }
          ],
          "heatmapgl": [
           {
            "colorbar": {
             "outlinewidth": 0,
             "ticks": ""
            },
            "colorscale": [
             [
              0,
              "#0d0887"
             ],
             [
              0.1111111111111111,
              "#46039f"
             ],
             [
              0.2222222222222222,
              "#7201a8"
             ],
             [
              0.3333333333333333,
              "#9c179e"
             ],
             [
              0.4444444444444444,
              "#bd3786"
             ],
             [
              0.5555555555555556,
              "#d8576b"
             ],
             [
              0.6666666666666666,
              "#ed7953"
             ],
             [
              0.7777777777777778,
              "#fb9f3a"
             ],
             [
              0.8888888888888888,
              "#fdca26"
             ],
             [
              1,
              "#f0f921"
             ]
            ],
            "type": "heatmapgl"
           }
          ],
          "histogram": [
           {
            "marker": {
             "pattern": {
              "fillmode": "overlay",
              "size": 10,
              "solidity": 0.2
             }
            },
            "type": "histogram"
           }
          ],
          "histogram2d": [
           {
            "colorbar": {
             "outlinewidth": 0,
             "ticks": ""
            },
            "colorscale": [
             [
              0,
              "#0d0887"
             ],
             [
              0.1111111111111111,
              "#46039f"
             ],
             [
              0.2222222222222222,
              "#7201a8"
             ],
             [
              0.3333333333333333,
              "#9c179e"
             ],
             [
              0.4444444444444444,
              "#bd3786"
             ],
             [
              0.5555555555555556,
              "#d8576b"
             ],
             [
              0.6666666666666666,
              "#ed7953"
             ],
             [
              0.7777777777777778,
              "#fb9f3a"
             ],
             [
              0.8888888888888888,
              "#fdca26"
             ],
             [
              1,
              "#f0f921"
             ]
            ],
            "type": "histogram2d"
           }
          ],
          "histogram2dcontour": [
           {
            "colorbar": {
             "outlinewidth": 0,
             "ticks": ""
            },
            "colorscale": [
             [
              0,
              "#0d0887"
             ],
             [
              0.1111111111111111,
              "#46039f"
             ],
             [
              0.2222222222222222,
              "#7201a8"
             ],
             [
              0.3333333333333333,
              "#9c179e"
             ],
             [
              0.4444444444444444,
              "#bd3786"
             ],
             [
              0.5555555555555556,
              "#d8576b"
             ],
             [
              0.6666666666666666,
              "#ed7953"
             ],
             [
              0.7777777777777778,
              "#fb9f3a"
             ],
             [
              0.8888888888888888,
              "#fdca26"
             ],
             [
              1,
              "#f0f921"
             ]
            ],
            "type": "histogram2dcontour"
           }
          ],
          "mesh3d": [
           {
            "colorbar": {
             "outlinewidth": 0,
             "ticks": ""
            },
            "type": "mesh3d"
           }
          ],
          "parcoords": [
           {
            "line": {
             "colorbar": {
              "outlinewidth": 0,
              "ticks": ""
             }
            },
            "type": "parcoords"
           }
          ],
          "pie": [
           {
            "automargin": true,
            "type": "pie"
           }
          ],
          "scatter": [
           {
            "fillpattern": {
             "fillmode": "overlay",
             "size": 10,
             "solidity": 0.2
            },
            "type": "scatter"
           }
          ],
          "scatter3d": [
           {
            "line": {
             "colorbar": {
              "outlinewidth": 0,
              "ticks": ""
             }
            },
            "marker": {
             "colorbar": {
              "outlinewidth": 0,
              "ticks": ""
             }
            },
            "type": "scatter3d"
           }
          ],
          "scattercarpet": [
           {
            "marker": {
             "colorbar": {
              "outlinewidth": 0,
              "ticks": ""
             }
            },
            "type": "scattercarpet"
           }
          ],
          "scattergeo": [
           {
            "marker": {
             "colorbar": {
              "outlinewidth": 0,
              "ticks": ""
             }
            },
            "type": "scattergeo"
           }
          ],
          "scattergl": [
           {
            "marker": {
             "colorbar": {
              "outlinewidth": 0,
              "ticks": ""
             }
            },
            "type": "scattergl"
           }
          ],
          "scattermapbox": [
           {
            "marker": {
             "colorbar": {
              "outlinewidth": 0,
              "ticks": ""
             }
            },
            "type": "scattermapbox"
           }
          ],
          "scatterpolar": [
           {
            "marker": {
             "colorbar": {
              "outlinewidth": 0,
              "ticks": ""
             }
            },
            "type": "scatterpolar"
           }
          ],
          "scatterpolargl": [
           {
            "marker": {
             "colorbar": {
              "outlinewidth": 0,
              "ticks": ""
             }
            },
            "type": "scatterpolargl"
           }
          ],
          "scatterternary": [
           {
            "marker": {
             "colorbar": {
              "outlinewidth": 0,
              "ticks": ""
             }
            },
            "type": "scatterternary"
           }
          ],
          "surface": [
           {
            "colorbar": {
             "outlinewidth": 0,
             "ticks": ""
            },
            "colorscale": [
             [
              0,
              "#0d0887"
             ],
             [
              0.1111111111111111,
              "#46039f"
             ],
             [
              0.2222222222222222,
              "#7201a8"
             ],
             [
              0.3333333333333333,
              "#9c179e"
             ],
             [
              0.4444444444444444,
              "#bd3786"
             ],
             [
              0.5555555555555556,
              "#d8576b"
             ],
             [
              0.6666666666666666,
              "#ed7953"
             ],
             [
              0.7777777777777778,
              "#fb9f3a"
             ],
             [
              0.8888888888888888,
              "#fdca26"
             ],
             [
              1,
              "#f0f921"
             ]
            ],
            "type": "surface"
           }
          ],
          "table": [
           {
            "cells": {
             "fill": {
              "color": "#EBF0F8"
             },
             "line": {
              "color": "white"
             }
            },
            "header": {
             "fill": {
              "color": "#C8D4E3"
             },
             "line": {
              "color": "white"
             }
            },
            "type": "table"
           }
          ]
         },
         "layout": {
          "annotationdefaults": {
           "arrowcolor": "#2a3f5f",
           "arrowhead": 0,
           "arrowwidth": 1
          },
          "autotypenumbers": "strict",
          "coloraxis": {
           "colorbar": {
            "outlinewidth": 0,
            "ticks": ""
           }
          },
          "colorscale": {
           "diverging": [
            [
             0,
             "#8e0152"
            ],
            [
             0.1,
             "#c51b7d"
            ],
            [
             0.2,
             "#de77ae"
            ],
            [
             0.3,
             "#f1b6da"
            ],
            [
             0.4,
             "#fde0ef"
            ],
            [
             0.5,
             "#f7f7f7"
            ],
            [
             0.6,
             "#e6f5d0"
            ],
            [
             0.7,
             "#b8e186"
            ],
            [
             0.8,
             "#7fbc41"
            ],
            [
             0.9,
             "#4d9221"
            ],
            [
             1,
             "#276419"
            ]
           ],
           "sequential": [
            [
             0,
             "#0d0887"
            ],
            [
             0.1111111111111111,
             "#46039f"
            ],
            [
             0.2222222222222222,
             "#7201a8"
            ],
            [
             0.3333333333333333,
             "#9c179e"
            ],
            [
             0.4444444444444444,
             "#bd3786"
            ],
            [
             0.5555555555555556,
             "#d8576b"
            ],
            [
             0.6666666666666666,
             "#ed7953"
            ],
            [
             0.7777777777777778,
             "#fb9f3a"
            ],
            [
             0.8888888888888888,
             "#fdca26"
            ],
            [
             1,
             "#f0f921"
            ]
           ],
           "sequentialminus": [
            [
             0,
             "#0d0887"
            ],
            [
             0.1111111111111111,
             "#46039f"
            ],
            [
             0.2222222222222222,
             "#7201a8"
            ],
            [
             0.3333333333333333,
             "#9c179e"
            ],
            [
             0.4444444444444444,
             "#bd3786"
            ],
            [
             0.5555555555555556,
             "#d8576b"
            ],
            [
             0.6666666666666666,
             "#ed7953"
            ],
            [
             0.7777777777777778,
             "#fb9f3a"
            ],
            [
             0.8888888888888888,
             "#fdca26"
            ],
            [
             1,
             "#f0f921"
            ]
           ]
          },
          "colorway": [
           "#636efa",
           "#EF553B",
           "#00cc96",
           "#ab63fa",
           "#FFA15A",
           "#19d3f3",
           "#FF6692",
           "#B6E880",
           "#FF97FF",
           "#FECB52"
          ],
          "font": {
           "color": "#2a3f5f"
          },
          "geo": {
           "bgcolor": "white",
           "lakecolor": "white",
           "landcolor": "#E5ECF6",
           "showlakes": true,
           "showland": true,
           "subunitcolor": "white"
          },
          "hoverlabel": {
           "align": "left"
          },
          "hovermode": "closest",
          "mapbox": {
           "style": "light"
          },
          "paper_bgcolor": "white",
          "plot_bgcolor": "#E5ECF6",
          "polar": {
           "angularaxis": {
            "gridcolor": "white",
            "linecolor": "white",
            "ticks": ""
           },
           "bgcolor": "#E5ECF6",
           "radialaxis": {
            "gridcolor": "white",
            "linecolor": "white",
            "ticks": ""
           }
          },
          "scene": {
           "xaxis": {
            "backgroundcolor": "#E5ECF6",
            "gridcolor": "white",
            "gridwidth": 2,
            "linecolor": "white",
            "showbackground": true,
            "ticks": "",
            "zerolinecolor": "white"
           },
           "yaxis": {
            "backgroundcolor": "#E5ECF6",
            "gridcolor": "white",
            "gridwidth": 2,
            "linecolor": "white",
            "showbackground": true,
            "ticks": "",
            "zerolinecolor": "white"
           },
           "zaxis": {
            "backgroundcolor": "#E5ECF6",
            "gridcolor": "white",
            "gridwidth": 2,
            "linecolor": "white",
            "showbackground": true,
            "ticks": "",
            "zerolinecolor": "white"
           }
          },
          "shapedefaults": {
           "line": {
            "color": "#2a3f5f"
           }
          },
          "ternary": {
           "aaxis": {
            "gridcolor": "white",
            "linecolor": "white",
            "ticks": ""
           },
           "baxis": {
            "gridcolor": "white",
            "linecolor": "white",
            "ticks": ""
           },
           "bgcolor": "#E5ECF6",
           "caxis": {
            "gridcolor": "white",
            "linecolor": "white",
            "ticks": ""
           }
          },
          "title": {
           "x": 0.05
          },
          "xaxis": {
           "automargin": true,
           "gridcolor": "white",
           "linecolor": "white",
           "ticks": "",
           "title": {
            "standoff": 15
           },
           "zerolinecolor": "white",
           "zerolinewidth": 2
          },
          "yaxis": {
           "automargin": true,
           "gridcolor": "white",
           "linecolor": "white",
           "ticks": "",
           "title": {
            "standoff": 15
           },
           "zerolinecolor": "white",
           "zerolinewidth": 2
          }
         }
        },
        "title": {
         "text": "Pandas vs cuDF Performance Comparison"
        },
        "xaxis": {
         "anchor": "y",
         "autorange": true,
         "domain": [
          0,
          1
         ],
         "range": [
          -0.5,
          2.5
         ],
         "title": {
          "text": "Operation"
         },
         "type": "category"
        },
        "yaxis": {
         "anchor": "x",
         "autorange": true,
         "domain": [
          0,
          1
         ],
         "range": [
          -0.2777777777777778,
          5.277777777777778
         ],
         "title": {
          "text": "Time (s)"
         },
         "type": "category"
        }
       }
      },
      "image/png": "[encoded data removed]",
      "text/html": [
       "<div>                            <div id=\"02816716-3290-4474-969b-95b6da641b4d\" class=\"plotly-graph-div\" style=\"height:525px; width:100%;\"></div>            <script type=\"text/javascript\">                require([\"plotly\"], function(Plotly) {                    window.PLOTLYENV=window.PLOTLYENV || {};                                    if (document.getElementById(\"02816716-3290-4474-969b-95b6da641b4d\")) {                    Plotly.newPlot(                        \"02816716-3290-4474-969b-95b6da641b4d\",                        [{\"alignmentgroup\":\"True\",\"hovertemplate\":\"Library=Pandas<br>Operation=%{x}<br>Time (s)=%{y}<extra></extra>\",\"legendgroup\":\"Pandas\",\"marker\":{\"color\":\"#636efa\",\"pattern\":{\"shape\":\"\"}},\"name\":\"Pandas\",\"offsetgroup\":\"Pandas\",\"orientation\":\"v\",\"showlegend\":true,\"textposition\":\"auto\",\"x\":[\"Value Counts by State\",\"Aggregation by Body Type\",\"Count by Weekday\"],\"xaxis\":\"x\",\"y\":[\"6.8549\",\"6.5390\",\"6.6512\"],\"yaxis\":\"y\",\"type\":\"bar\"},{\"alignmentgroup\":\"True\",\"hovertemplate\":\"Library=cuDF<br>Operation=%{x}<br>Time (s)=%{y}<extra></extra>\",\"legendgroup\":\"cuDF\",\"marker\":{\"color\":\"#EF553B\",\"pattern\":{\"shape\":\"\"}},\"name\":\"cuDF\",\"offsetgroup\":\"cuDF\",\"orientation\":\"v\",\"showlegend\":true,\"textposition\":\"auto\",\"x\":[\"Value Counts by State\",\"Aggregation by Body Type\",\"Count by Weekday\"],\"xaxis\":\"x\",\"y\":[\"0.4975\",\"0.5010\",\"0.4908\"],\"yaxis\":\"y\",\"type\":\"bar\"}],                        {\"template\":{\"data\":{\"histogram2dcontour\":[{\"type\":\"histogram2dcontour\",\"colorbar\":{\"outlinewidth\":0,\"ticks\":\"\"},\"colorscale\":[[0.0,\"#0d0887\"],[0.1111111111111111,\"#46039f\"],[0.2222222222222222,\"#7201a8\"],[0.3333333333333333,\"#9c179e\"],[0.4444444444444444,\"#bd3786\"],[0.5555555555555556,\"#d8576b\"],[0.6666666666666666,\"#ed7953\"],[0.7777777777777778,\"#fb9f3a\"],[0.8888888888888888,\"#fdca26\"],[1.0,\"#f0f921\"]]}],\"choropleth\":[{\"type\":\"choropleth\",\"colorbar\":{\"outlinewidth\":0,\"ticks\":\"\"}}],\"histogram2d\":[{\"type\":\"histogram2d\",\"colorbar\":{\"outlinewidth\":0,\"ticks\":\"\"},\"colorscale\":[[0.0,\"#0d0887\"],[0.1111111111111111,\"#46039f\"],[0.2222222222222222,\"#7201a8\"],[0.3333333333333333,\"#9c179e\"],[0.4444444444444444,\"#bd3786\"],[0.5555555555555556,\"#d8576b\"],[0.6666666666666666,\"#ed7953\"],[0.7777777777777778,\"#fb9f3a\"],[0.8888888888888888,\"#fdca26\"],[1.0,\"#f0f921\"]]}],\"heatmap\":[{\"type\":\"heatmap\",\"colorbar\":{\"outlinewidth\":0,\"ticks\":\"\"},\"colorscale\":[[0.0,\"#0d0887\"],[0.1111111111111111,\"#46039f\"],[0.2222222222222222,\"#7201a8\"],[0.3333333333333333,\"#9c179e\"],[0.4444444444444444,\"#bd3786\"],[0.5555555555555556,\"#d8576b\"],[0.6666666666666666,\"#ed7953\"],[0.7777777777777778,\"#fb9f3a\"],[0.8888888888888888,\"#fdca26\"],[1.0,\"#f0f921\"]]}],\"heatmapgl\":[{\"type\":\"heatmapgl\",\"colorbar\":{\"outlinewidth\":0,\"ticks\":\"\"},\"colorscale\":[[0.0,\"#0d0887\"],[0.1111111111111111,\"#46039f\"],[0.2222222222222222,\"#7201a8\"],[0.3333333333333333,\"#9c179e\"],[0.4444444444444444,\"#bd3786\"],[0.5555555555555556,\"#d8576b\"],[0.6666666666666666,\"#ed7953\"],[0.7777777777777778,\"#fb9f3a\"],[0.8888888888888888,\"#fdca26\"],[1.0,\"#f0f921\"]]}],\"contourcarpet\":[{\"type\":\"contourcarpet\",\"colorbar\":{\"outlinewidth\":0,\"ticks\":\"\"}}],\"contour\":[{\"type\":\"contour\",\"colorbar\":{\"outlinewidth\":0,\"ticks\":\"\"},\"colorscale\":[[0.0,\"#0d0887\"],[0.1111111111111111,\"#46039f\"],[0.2222222222222222,\"#7201a8\"],[0.3333333333333333,\"#9c179e\"],[0.4444444444444444,\"#bd3786\"],[0.5555555555555556,\"#d8576b\"],[0.6666666666666666,\"#ed7953\"],[0.7777777777777778,\"#fb9f3a\"],[0.8888888888888888,\"#fdca26\"],[1.0,\"#f0f921\"]]}],\"surface\":[{\"type\":\"surface\",\"colorbar\":{\"outlinewidth\":0,\"ticks\":\"\"},\"colorscale\":[[0.0,\"#0d0887\"],[0.1111111111111111,\"#46039f\"],[0.2222222222222222,\"#7201a8\"],[0.3333333333333333,\"#9c179e\"],[0.4444444444444444,\"#bd3786\"],[0.5555555555555556,\"#d8576b\"],[0.6666666666666666,\"#ed7953\"],[0.7777777777777778,\"#fb9f3a\"],[0.8888888888888888,\"#fdca26\"],[1.0,\"#f0f921\"]]}],\"mesh3d\":[{\"type\":\"mesh3d\",\"colorbar\":{\"outlinewidth\":0,\"ticks\":\"\"}}],\"scatter\":[{\"fillpattern\":{\"fillmode\":\"overlay\",\"size\":10,\"solidity\":0.2},\"type\":\"scatter\"}],\"parcoords\":[{\"type\":\"parcoords\",\"line\":{\"colorbar\":{\"outlinewidth\":0,\"ticks\":\"\"}}}],\"scatterpolargl\":[{\"type\":\"scatterpolargl\",\"marker\":{\"colorbar\":{\"outlinewidth\":0,\"ticks\":\"\"}}}],\"bar\":[{\"error_x\":{\"color\":\"#2a3f5f\"},\"error_y\":{\"color\":\"#2a3f5f\"},\"marker\":{\"line\":{\"color\":\"#E5ECF6\",\"width\":0.5},\"pattern\":{\"fillmode\":\"overlay\",\"size\":10,\"solidity\":0.2}},\"type\":\"bar\"}],\"scattergeo\":[{\"type\":\"scattergeo\",\"marker\":{\"colorbar\":{\"outlinewidth\":0,\"ticks\":\"\"}}}],\"scatterpolar\":[{\"type\":\"scatterpolar\",\"marker\":{\"colorbar\":{\"outlinewidth\":0,\"ticks\":\"\"}}}],\"histogram\":[{\"marker\":{\"pattern\":{\"fillmode\":\"overlay\",\"size\":10,\"solidity\":0.2}},\"type\":\"histogram\"}],\"scattergl\":[{\"type\":\"scattergl\",\"marker\":{\"colorbar\":{\"outlinewidth\":0,\"ticks\":\"\"}}}],\"scatter3d\":[{\"type\":\"scatter3d\",\"line\":{\"colorbar\":{\"outlinewidth\":0,\"ticks\":\"\"}},\"marker\":{\"colorbar\":{\"outlinewidth\":0,\"ticks\":\"\"}}}],\"scattermapbox\":[{\"type\":\"scattermapbox\",\"marker\":{\"colorbar\":{\"outlinewidth\":0,\"ticks\":\"\"}}}],\"scatterternary\":[{\"type\":\"scatterternary\",\"marker\":{\"colorbar\":{\"outlinewidth\":0,\"ticks\":\"\"}}}],\"scattercarpet\":[{\"type\":\"scattercarpet\",\"marker\":{\"colorbar\":{\"outlinewidth\":0,\"ticks\":\"\"}}}],\"carpet\":[{\"aaxis\":{\"endlinecolor\":\"#2a3f5f\",\"gridcolor\":\"white\",\"linecolor\":\"white\",\"minorgridcolor\":\"white\",\"startlinecolor\":\"#2a3f5f\"},\"baxis\":{\"endlinecolor\":\"#2a3f5f\",\"gridcolor\":\"white\",\"linecolor\":\"white\",\"minorgridcolor\":\"white\",\"startlinecolor\":\"#2a3f5f\"},\"type\":\"carpet\"}],\"table\":[{\"cells\":{\"fill\":{\"color\":\"#EBF0F8\"},\"line\":{\"color\":\"white\"}},\"header\":{\"fill\":{\"color\":\"#C8D4E3\"},\"line\":{\"color\":\"white\"}},\"type\":\"table\"}],\"barpolar\":[{\"marker\":{\"line\":{\"color\":\"#E5ECF6\",\"width\":0.5},\"pattern\":{\"fillmode\":\"overlay\",\"size\":10,\"solidity\":0.2}},\"type\":\"barpolar\"}],\"pie\":[{\"automargin\":true,\"type\":\"pie\"}]},\"layout\":{\"autotypenumbers\":\"strict\",\"colorway\":[\"#636efa\",\"#EF553B\",\"#00cc96\",\"#ab63fa\",\"#FFA15A\",\"#19d3f3\",\"#FF6692\",\"#B6E880\",\"#FF97FF\",\"#FECB52\"],\"font\":{\"color\":\"#2a3f5f\"},\"hovermode\":\"closest\",\"hoverlabel\":{\"align\":\"left\"},\"paper_bgcolor\":\"white\",\"plot_bgcolor\":\"#E5ECF6\",\"polar\":{\"bgcolor\":\"#E5ECF6\",\"angularaxis\":{\"gridcolor\":\"white\",\"linecolor\":\"white\",\"ticks\":\"\"},\"radialaxis\":{\"gridcolor\":\"white\",\"linecolor\":\"white\",\"ticks\":\"\"}},\"ternary\":{\"bgcolor\":\"#E5ECF6\",\"aaxis\":{\"gridcolor\":\"white\",\"linecolor\":\"white\",\"ticks\":\"\"},\"baxis\":{\"gridcolor\":\"white\",\"linecolor\":\"white\",\"ticks\":\"\"},\"caxis\":{\"gridcolor\":\"white\",\"linecolor\":\"white\",\"ticks\":\"\"}},\"coloraxis\":{\"colorbar\":{\"outlinewidth\":0,\"ticks\":\"\"}},\"colorscale\":{\"sequential\":[[0.0,\"#0d0887\"],[0.1111111111111111,\"#46039f\"],[0.2222222222222222,\"#7201a8\"],[0.3333333333333333,\"#9c179e\"],[0.4444444444444444,\"#bd3786\"],[0.5555555555555556,\"#d8576b\"],[0.6666666666666666,\"#ed7953\"],[0.7777777777777778,\"#fb9f3a\"],[0.8888888888888888,\"#fdca26\"],[1.0,\"#f0f921\"]],\"sequentialminus\":[[0.0,\"#0d0887\"],[0.1111111111111111,\"#46039f\"],[0.2222222222222222,\"#7201a8\"],[0.3333333333333333,\"#9c179e\"],[0.4444444444444444,\"#bd3786\"],[0.5555555555555556,\"#d8576b\"],[0.6666666666666666,\"#ed7953\"],[0.7777777777777778,\"#fb9f3a\"],[0.8888888888888888,\"#fdca26\"],[1.0,\"#f0f921\"]],\"diverging\":[[0,\"#8e0152\"],[0.1,\"#c51b7d\"],[0.2,\"#de77ae\"],[0.3,\"#f1b6da\"],[0.4,\"#fde0ef\"],[0.5,\"#f7f7f7\"],[0.6,\"#e6f5d0\"],[0.7,\"#b8e186\"],[0.8,\"#7fbc41\"],[0.9,\"#4d9221\"],[1,\"#276419\"]]},\"xaxis\":{\"gridcolor\":\"white\",\"linecolor\":\"white\",\"ticks\":\"\",\"title\":{\"standoff\":15},\"zerolinecolor\":\"white\",\"automargin\":true,\"zerolinewidth\":2},\"yaxis\":{\"gridcolor\":\"white\",\"linecolor\":\"white\",\"ticks\":\"\",\"title\":{\"standoff\":15},\"zerolinecolor\":\"white\",\"automargin\":true,\"zerolinewidth\":2},\"scene\":{\"xaxis\":{\"backgroundcolor\":\"#E5ECF6\",\"gridcolor\":\"white\",\"linecolor\":\"white\",\"showbackground\":true,\"ticks\":\"\",\"zerolinecolor\":\"white\",\"gridwidth\":2},\"yaxis\":{\"backgroundcolor\":\"#E5ECF6\",\"gridcolor\":\"white\",\"linecolor\":\"white\",\"showbackground\":true,\"ticks\":\"\",\"zerolinecolor\":\"white\",\"gridwidth\":2},\"zaxis\":{\"backgroundcolor\":\"#E5ECF6\",\"gridcolor\":\"white\",\"linecolor\":\"white\",\"showbackground\":true,\"ticks\":\"\",\"zerolinecolor\":\"white\",\"gridwidth\":2}},\"shapedefaults\":{\"line\":{\"color\":\"#2a3f5f\"}},\"annotationdefaults\":{\"arrowcolor\":\"#2a3f5f\",\"arrowhead\":0,\"arrowwidth\":1},\"geo\":{\"bgcolor\":\"white\",\"landcolor\":\"#E5ECF6\",\"subunitcolor\":\"white\",\"showland\":true,\"showlakes\":true,\"lakecolor\":\"white\"},\"title\":{\"x\":0.05},\"mapbox\":{\"style\":\"light\"}}},\"xaxis\":{\"anchor\":\"y\",\"domain\":[0.0,1.0],\"title\":{\"text\":\"Operation\"}},\"yaxis\":{\"anchor\":\"x\",\"domain\":[0.0,1.0],\"title\":{\"text\":\"Time (s)\"}},\"legend\":{\"title\":{\"text\":\"Library\"},\"tracegroupgap\":0},\"title\":{\"text\":\"Pandas vs cuDF Performance Comparison\"},\"barmode\":\"group\"},                        {\"responsive\": true}                    ).then(function(){\n",
       "                            \n",
       "var gd = document.getElementById('02816716-3290-4474-969b-95b6da641b4d');\n",
       "var x = new MutationObserver(function (mutations, observer) {{\n",
       "        var display = window.getComputedStyle(gd).display;\n",
       "        if (!display || display === 'none') {{\n",
       "            console.log([gd, 'removed!']);\n",
       "            Plotly.purge(gd);\n",
       "            observer.disconnect();\n",
       "        }}\n",
       "}});\n",
       "\n",
       "// Listen for the removal of the full notebook cells\n",
       "var notebookContainer = gd.closest('#notebook-container');\n",
       "if (notebookContainer) {{\n",
       "    x.observe(notebookContainer, {childList: true});\n",
       "}}\n",
       "\n",
       "// Listen for the clearing of the current output cell\n",
       "var outputEl = gd.closest('.output');\n",
       "if (outputEl) {{\n",
       "    x.observe(outputEl, {childList: true});\n",
       "}}\n",
       "\n",
       "                        })                };                });            </script>        </div>"
      ]
     },
     "metadata": {},
     "output_type": "display_data"
    }
   ],
   "source": [
    "import pandas as pd\n",
    "import cudf\n",
    "import time\n",
    "import plotly.express as px\n",
    "from memory_profiler import memory_usage\n",
    "\n",
    "# Pandas Operations\n",
    "def pandas_operations():\n",
    "    df = pd.read_parquet(\"nyc_parking_violations_2022.parquet\", columns=[\"Registration State\", \"Violation Description\", \"Vehicle Body Type\", \"Issue Date\", \"Summons Number\"])\n",
    "\n",
    "    # Operation 1\n",
    "    op1 = (df[[\"Registration State\", \"Violation Description\"]]\n",
    "           .value_counts()\n",
    "           .groupby(\"Registration State\")\n",
    "           .head(1)\n",
    "           .sort_index()\n",
    "           .reset_index())\n",
    "\n",
    "    # Operation 2\n",
    "    op2 = (df\n",
    "           .groupby([\"Vehicle Body Type\"])\n",
    "           .agg({\"Summons Number\": \"count\"})\n",
    "           .rename(columns={\"Summons Number\": \"Count\"})\n",
    "           .sort_values([\"Count\"], ascending=False))\n",
    "\n",
    "    # Operation 3\n",
    "    weekday_names = {0: \"Monday\", 1: \"Tuesday\", 2: \"Wednesday\", 3: \"Thursday\", 4: \"Friday\", 5: \"Saturday\", 6: \"Sunday\"}\n",
    "    df[\"Issue Date\"] = df[\"Issue Date\"].astype(\"datetime64[ms]\")\n",
    "    df[\"issue_weekday\"] = df[\"Issue Date\"].dt.weekday.map(weekday_names)\n",
    "    op3 = df.groupby([\"issue_weekday\"])[\"Summons Number\"].count().sort_values()\n",
    "\n",
    "    return op1, op2, op3\n",
    "\n",
    "# cuDF Operations\n",
    "def cudf_operations():\n",
    "    df = cudf.read_parquet(\"nyc_parking_violations_2022.parquet\", columns=[\"Registration State\", \"Violation Description\", \"Vehicle Body Type\", \"Issue Date\", \"Summons Number\"])\n",
    "\n",
    "    # Operation 1\n",
    "    op1 = (df[[\"Registration State\", \"Violation Description\"]]\n",
    "           .value_counts()\n",
    "           .groupby(\"Registration State\")\n",
    "           .head(1)\n",
    "           .sort_index()\n",
    "           .reset_index())\n",
    "\n",
    "    # Operation 2\n",
    "    op2 = (df\n",
    "           .groupby([\"Vehicle Body Type\"])\n",
    "           .agg({\"Summons Number\": \"count\"})\n",
    "           .rename(columns={\"Summons Number\": \"Count\"})\n",
    "           .sort_values([\"Count\"], ascending=False))\n",
    "\n",
    "    # Operation 3\n",
    "    weekday_names = {0: \"Monday\", 1: \"Tuesday\", 2: \"Wednesday\", 3: \"Thursday\", 4: \"Friday\", 5: \"Saturday\", 6: \"Sunday\"}\n",
    "    df[\"Issue Date\"] = df[\"Issue Date\"].astype(\"datetime64[ms]\")\n",
    "    df[\"issue_weekday\"] = df[\"Issue Date\"].dt.weekday.map(weekday_names)\n",
    "    op3 = df.groupby([\"issue_weekday\"])[\"Summons Number\"].count().sort_values()\n",
    "\n",
    "    return op1, op2, op3\n",
    "# Define the list of operation names\n",
    "operations = ['Value Counts by State', 'Aggregation by Body Type', 'Count by Weekday']\n",
    "\n",
    "\n",
    "# Modified Benchmarking Function\n",
    "def benchmark_operation(pd_func, cudf_func, operation_index):\n",
    "    # Measure Pandas performance\n",
    "    pandas_start_time = time.time()\n",
    "    pd_result = pd_func()[operation_index]  # Get specific operation result\n",
    "    pandas_time = time.time() - pandas_start_time\n",
    "    pandas_memory = max(memory_usage((lambda: pd_result, )))  # Memory usage\n",
    "\n",
    "    # Measure cuDF performance\n",
    "    cudf_start_time = time.time()\n",
    "    cudf_result = cudf_func()[operation_index]  # Get specific operation result\n",
    "    cudf_time = time.time() - cudf_start_time\n",
    "    cudf_memory = max(memory_usage((lambda: cudf_result, )))  # Memory usage\n",
    "\n",
    "    # Performance boost calculation\n",
    "    boost = 100 * (pandas_time - cudf_time) / pandas_time if pandas_time > 0 else 0\n",
    "\n",
    "    return pandas_time, pandas_memory, cudf_time, cudf_memory, boost\n",
    "\n",
    "\n",
    "def display_results(results):\n",
    "    # Define headers\n",
    "    headers = [\"Operation\", \"Pandas Time (s)\", \"Pandas Memory (MB)\", \"cuDF Time (s)\", \"cuDF Memory (MB)\", \"Performance Boost (%)\"]\n",
    "\n",
    "    # Determine the column widths based on the maximum length of data in each column\n",
    "    max_widths = [len(header) for header in headers]\n",
    "    for result in results:\n",
    "        for i, value in enumerate(result):\n",
    "            max_widths[i] = max(max_widths[i], len(str(value)))\n",
    "\n",
    "    # Create the header row\n",
    "    header_row = \"|\".join([f\"{header:<{max_widths[i]}}\" for i, header in enumerate(headers)])\n",
    "\n",
    "    # Create the separator row\n",
    "    separator_row = \"+\".join([\"-\" * max_widths[i] for i in range(len(headers))])\n",
    "\n",
    "    # Print the header row and separator row\n",
    "    print(separator_row)\n",
    "    print(header_row)\n",
    "    print(separator_row)\n",
    "\n",
    "    # Iterate through the results and print each row\n",
    "    for result in results:\n",
    "        row = \"|\".join([f\"{str(result[i]):<{max_widths[i]}}\" for i in range(len(result))])\n",
    "        print(row)\n",
    "\n",
    "    # Print the separator row at the end\n",
    "    print(separator_row)\n",
    "\n",
    "# Collecting and Displaying Results\n",
    "results = []\n",
    "for i, op in enumerate(operations):\n",
    "    pandas_time, pandas_memory, cudf_time, cudf_memory, boost = benchmark_operation(pandas_operations, cudf_operations, i)\n",
    "    results.append([op, f\"{pandas_time:.4f}\", f\"{pandas_memory:.4f}\", f\"{cudf_time:.4f}\", f\"{cudf_memory:.4f}\", f\"{boost:.2f}%\"])\n",
    "\n",
    "# Display results in a wider table\n",
    "display_results(results)\n",
    "\n",
    "# Plotting results\n",
    "# Prepare data for Plotly\n",
    "plot_data = []\n",
    "for result in results:\n",
    "    operation, pandas_time, pandas_memory, cudf_time, cudf_memory, boost = result\n",
    "    plot_data.append({\"Operation\": operation, \"Library\": \"Pandas\", \"Time (s)\": pandas_time})\n",
    "    plot_data.append({\"Operation\": operation, \"Library\": \"cuDF\", \"Time (s)\": cudf_time})\n",
    "\n",
    "# Convert to DataFrame for easy plotting\n",
    "plot_df = pd.DataFrame(plot_data)\n",
    "\n",
    "# Plotting results\n",
    "fig = px.bar(\n",
    "    plot_df, \n",
    "    x=\"Operation\", \n",
    "    y=\"Time (s)\", \n",
    "    color=\"Library\",\n",
    "    barmode='group',\n",
    "    labels={\"Operation\": \"Operation\", \"Time (s)\": \"Time (s)\"},\n",
    "    title=\"Pandas vs cuDF Performance Comparison\"\n",
    ")\n",
    "\n",
    "\n",
    "fig.show()\n",
    "\n"
   ]
  },
  {
   "cell_type": "markdown",
   "metadata": {},
   "source": [
    "## Follow with coding now that we know if all is fine.\n"
   ]
  },
  {
   "cell_type": "code",
   "execution_count": null,
   "metadata": {},
   "outputs": [],
   "source": [
    "# CUDF - GPU Dataframe\n",
    "# cudf is a GPU DataFrame library for loading, joining, aggregating, filtering, and otherwise manipulating tabular data using a DataFrame style API.    \n",
    "  \n",
    "%load_ext cudf.pandas\n",
    "\n",
    "# Importing libraries\n",
    "#=============================\n",
    "import cudf\n",
    "import pandas as pd\n",
    "import numpy as np  \n",
    "import matplotlib.pyplot as plt\n",
    "import seaborn as sns\n",
    "import plotly.express as px\n",
    "import folium\n",
    "#=============================\n"
   ]
  },
  {
   "cell_type": "markdown",
   "metadata": {},
   "source": [
    "### Get data "
   ]
  },
  {
   "cell_type": "code",
   "execution_count": null,
   "metadata": {},
   "outputs": [],
   "source": []
  }
 ],
 "metadata": {
  "kernelspec": {
   "display_name": "Python 3 (ipykernel)",
   "language": "python",
   "name": "python3"
  },
  "language_info": {
   "codemirror_mode": {
    "name": "ipython",
    "version": 3
   },
   "file_extension": ".py",
   "mimetype": "text/x-python",
   "name": "python",
   "nbconvert_exporter": "python",
   "pygments_lexer": "ipython3",
   "version": "3.10.13"
  },
  "widgets": {
   "application/vnd.jupyter.widget-state+json": {
    "state": {},
    "version_major": 2,
    "version_minor": 0
   }
  }
 },
 "nbformat": 4,
 "nbformat_minor": 4
}
